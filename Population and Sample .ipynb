{
 "cells": [
  {
   "cell_type": "markdown",
   "id": "3c639ba4",
   "metadata": {},
   "source": [
    "# Question 1\n",
    "\n",
    "\n",
    "Random sampling using weights, write a program that creates a random sample from a population using weighted probabilities.\n",
    "Definition: In weighted random sampling (WRS) the items are weighted and the probability of each item to be selected is determined by its relative weight.\n",
    "\n",
    "import pandas as pds\n",
    "\n",
    "    # TimeToReach vs distance\n",
    "time2reach =  {\"Distance\":[10,15,20,25,30,35,40,45,50,55],\n",
    "                \"TimeToReach\":[15,20,25,30,40,45,50,60,65,70]};\n",
    "\n",
    "dataFrame = pds.DataFrame(data=time2reach);\n",
    "\n",
    "#weight define\n",
    "w = pds.Series(data=[0.05, 0.05, 0.05,\n",
    "                     0.05, 0.05, 0.1,\n",
    "                     0.15, 0.15, 0.15,\n",
    "                     0.2]);"
   ]
  },
  {
   "cell_type": "code",
   "execution_count": 9,
   "id": "02a12521",
   "metadata": {},
   "outputs": [
    {
     "name": "stdout",
     "output_type": "stream",
     "text": [
      "   Distance  TimeToReach\n",
      "9        55           70\n"
     ]
    }
   ],
   "source": [
    "import numpy as np\n",
    "import pandas as pd\n",
    "\n",
    "time2reach =  {\"Distance\":[10,15,20,25,30,35,40,45,50,55],\n",
    "            \"TimeToReach\":[15,20,25,30,40,45,50,60,65,70]}\n",
    "\n",
    "dataFrame = pd.DataFrame(data=time2reach)\n",
    "\n",
    "w = pd.Series(data=[0.05, 0.05, 0.05 ,0.05, 0.05, 0.1, 0.15, 0.15, 0.15,0.2])\n",
    "                    \n",
    "d1=dataFrame.sample(n=1,weights=w)\n",
    "print(d1)"
   ]
  },
  {
   "cell_type": "markdown",
   "id": "4e44788d",
   "metadata": {},
   "source": [
    "# Question 2\n",
    "Specify the sample size as a fraction of the population size:\n",
    "Example python program that samples, a DataFrame specifying the sample, size as a\n",
    "proportion to the DataFrame size, We will be using FiveThirty Eight Comic Characters\n",
    "Dataset from Kaggle.\n",
    "Download dataset:\n",
    "\n",
    "https://www.kaggle.com/datasets/fivethirtyeight/fivethirtyeight-comic-characters-dataset"
   ]
  },
  {
   "cell_type": "code",
   "execution_count": 7,
   "id": "b5c92eec",
   "metadata": {},
   "outputs": [
    {
     "name": "stdout",
     "output_type": "stream",
     "text": [
      "      page_id                              name  \\\n",
      "1911    38990           Waldo Flynn (New Earth)   \n",
      "2847   202958        Bernard Venton (New Earth)   \n",
      "3213   117535                 Sonja (New Earth)   \n",
      "4693   153914   Ashley Mavis Powell (New Earth)   \n",
      "4512    32333  E. Wilbur Wolfingham (New Earth)   \n",
      "...       ...                               ...   \n",
      "4358   189593          Jarvis Poker (New Earth)   \n",
      "158      3473             Rita Farr (New Earth)   \n",
      "2215   262493              Rae Hall (New Earth)   \n",
      "4521   138844         Rebecca Tyler (New Earth)   \n",
      "3097    34741       Sherlock Holmes (New Earth)   \n",
      "\n",
      "                                       urlslug               ID  \\\n",
      "1911           \\/wiki\\/Waldo_Flynn_(New_Earth)              NaN   \n",
      "2847        \\/wiki\\/Bernard_Venton_(New_Earth)              NaN   \n",
      "3213                 \\/wiki\\/Sonja_(New_Earth)  Secret Identity   \n",
      "4693   \\/wiki\\/Ashley_Mavis_Powell_(New_Earth)              NaN   \n",
      "4512  \\/wiki\\/E._Wilbur_Wolfingham_(New_Earth)  Public Identity   \n",
      "...                                        ...              ...   \n",
      "4358          \\/wiki\\/Jarvis_Poker_(New_Earth)  Public Identity   \n",
      "158              \\/wiki\\/Rita_Farr_(New_Earth)  Secret Identity   \n",
      "2215              \\/wiki\\/Rae_Hall_(New_Earth)  Public Identity   \n",
      "4521         \\/wiki\\/Rebecca_Tyler_(New_Earth)              NaN   \n",
      "3097       \\/wiki\\/Sherlock_Holmes_(New_Earth)  Public Identity   \n",
      "\n",
      "                   ALIGN         EYE         HAIR                SEX  GSM  \\\n",
      "1911     Good Characters   Blue Eyes          NaN    Male Characters  NaN   \n",
      "2847      Bad Characters  Brown Eyes   Brown Hair    Male Characters  NaN   \n",
      "3213      Bad Characters  Green Eyes   Black Hair  Female Characters  NaN   \n",
      "4693      Bad Characters  Brown Eyes   Black Hair  Female Characters  NaN   \n",
      "4512                 NaN         NaN   Brown Hair    Male Characters  NaN   \n",
      "...                  ...         ...          ...                ...  ...   \n",
      "4358      Bad Characters         NaN  Purple Hair    Male Characters  NaN   \n",
      "158      Good Characters  Brown Eyes   Brown Hair  Female Characters  NaN   \n",
      "2215     Good Characters         NaN     Red Hair  Female Characters  NaN   \n",
      "4521  Neutral Characters         NaN   Blond Hair  Female Characters  NaN   \n",
      "3097     Good Characters  Brown Eyes   Brown Hair    Male Characters  NaN   \n",
      "\n",
      "                    ALIVE  APPEARANCES FIRST APPEARANCE    YEAR  \n",
      "1911    Living Characters         13.0      1981, March  1981.0  \n",
      "2847    Living Characters          7.0   2010, December  2010.0  \n",
      "3213    Living Characters          6.0     2004, August  2004.0  \n",
      "4693    Living Characters          3.0   1988, November  1988.0  \n",
      "4512    Living Characters          3.0     1999, August  1999.0  \n",
      "...                   ...          ...              ...     ...  \n",
      "4358  Deceased Characters          3.0   2010, December  2010.0  \n",
      "158     Living Characters        166.0       1963, June  1963.0  \n",
      "2215    Living Characters         11.0   1968, November  1968.0  \n",
      "4521    Living Characters          3.0   1999, December  1999.0  \n",
      "3097    Living Characters          7.0   1946, December  1946.0  \n",
      "\n",
      "[689 rows x 13 columns]\n"
     ]
    }
   ],
   "source": [
    "import pandas as pd\n",
    "\n",
    "# Load the dataset\n",
    "df = pd.read_csv(\"dc-wikia-data.csv\")\n",
    "\n",
    "# Set the sample size as a fraction of the population size\n",
    "sample_frac = 0.1\n",
    "\n",
    "# Calculate the sample size based on the fraction and the population size\n",
    "sample_size = int(len(df) * sample_frac)\n",
    "\n",
    "# Sample the DataFrame\n",
    "sampled_df = df.sample(n=sample_size)\n",
    "\n",
    "# Print the sampled DataFrame\n",
    "print(sampled_df)\n"
   ]
  },
  {
   "cell_type": "markdown",
   "id": "5b783a6b",
   "metadata": {},
   "source": [
    "# Question 3\n",
    "Create a random sample from a pandas dataframe, code to create a dataframe is mentioned below. Complete it by randomly taking out 5 rows from a dataframe.\n",
    "       \n",
    "       # Example Python program that creates a random sample\n",
    "       # from a pandas DataFrame import pandas as pds\n",
    "       # Age vs call duration\n",
    "    callTimes = {\"Age\": [20,25,31,37,43,44,52,58,64,68,70,77,82,86,91,96],\n",
    "    \"Call Duration\":[17,25,10,15,5,7,15,25,30,35,10,15,12,14,20,12]};\n",
    "     dataFrame = pds.DataFrame(data=callTimes);"
   ]
  },
  {
   "cell_type": "code",
   "execution_count": 22,
   "id": "a34c7e5e",
   "metadata": {},
   "outputs": [],
   "source": [
    "import pandas as pd\n",
    "callTimes = {\"Age\": [20,25,31,37,43,44,52,58,64,68,70,77,82,86,91,96],\n",
    "\"Call Duration\":[17,25,10,15,5,7,15,25,30,35,10,15,12,14,20,12]};\n",
    "dataFrame = pd.DataFrame(data=callTimes)"
   ]
  },
  {
   "cell_type": "code",
   "execution_count": 26,
   "id": "38664bc4",
   "metadata": {},
   "outputs": [
    {
     "name": "stdout",
     "output_type": "stream",
     "text": [
      "    Age  Call Duration\n",
      "11   77             15\n",
      "7    58             25\n",
      "5    44              7\n",
      "12   82             12\n",
      "8    64             30\n"
     ]
    }
   ],
   "source": [
    "a=pd.DataFrame.sample(dataFrame,n=5)\n",
    "print(a)"
   ]
  },
  {
   "cell_type": "markdown",
   "id": "d5b07e9a",
   "metadata": {},
   "source": [
    "# Question 4\n",
    "\n",
    "Write a code to do systematic sampling, choosing every 10th element.\n",
    "\n",
    "Systematic Sampling definition:\n",
    "\n",
    "    Systematic sampling is a probability sampling method where elements from a target\n",
    "    population are chosen by selecting a random starting point and selecting sample\n",
    "    members after a fixed 'sampling interval.' This is implemented easily by selecting each\n",
    "    'N'th element. Systematic sampling ensures that the full population is represented\n",
    "    fairly."
   ]
  },
  {
   "cell_type": "code",
   "execution_count": 21,
   "id": "dfcce138",
   "metadata": {},
   "outputs": [
    {
     "name": "stdout",
     "output_type": "stream",
     "text": [
      "      0\n",
      "0   664\n",
      "10  835\n",
      "20  158\n",
      "30  463\n",
      "40  376\n",
      "50  758\n",
      "60  131\n",
      "70  654\n",
      "80  614\n",
      "90  754\n"
     ]
    }
   ],
   "source": [
    "import numpy as np\n",
    "import pandas as pd\n",
    "sample=np.random.randint(0,1000,100)\n",
    "\n",
    "df=pd.DataFrame(sample)\n",
    "sys=df.iloc[::10]\n",
    "print(sys)"
   ]
  },
  {
   "cell_type": "markdown",
   "id": "9c35c07c",
   "metadata": {},
   "source": [
    "# Question 5\n",
    "\n",
    "Write a code to import the data in a data frame and take out 200 sample data\n",
    "\n",
    "Dataset download: https://www.kaggle.com/datasets/jb1433/sample-employees-monthly-salary"
   ]
  },
  {
   "cell_type": "code",
   "execution_count": 22,
   "id": "4200fdc2",
   "metadata": {},
   "outputs": [
    {
     "name": "stdout",
     "output_type": "stream",
     "text": [
      "      EmpID              Name Gender Date_of_Birth  Age   Join_Date  \\\n",
      "938   19731        Reba Evans      F    26/11/1991   28     11/1/18   \n",
      "201    9999       Mari Holder      F       11/5/88   32  15/09/2014   \n",
      "1376  21921    Delbert Krause      M    24/06/1993   27  27/05/2019   \n",
      "994   18267        Dion Velez      M       8/12/86   33      5/6/17   \n",
      "767    2823  Stephan Benjamin      M       2/11/75   44      1/9/04   \n",
      "...     ...               ...    ...           ...  ...         ...   \n",
      "498    8792    Elwood Wheeler      M    23/01/1992   28      1/7/13   \n",
      "1627  18480  Freddie Friedman      M        1/1/96   24      3/7/17   \n",
      "1115  19711     Robby Blevins      M       10/2/93   27      8/1/18   \n",
      "95    23053    Cindy Franklin      F       6/12/93   26  13/01/2020   \n",
      "171   17861     Denver Hebert      M       6/12/91   28  24/04/2017   \n",
      "\n",
      "      Tenure_in_org_in_months   GROSS  Net_Pay  Deduction  \\\n",
      "938                        30  180086   141446      38640   \n",
      "201                        70  104000    90929      13071   \n",
      "1376                       13   60500    53822       6678   \n",
      "994                        37  176391   124339      52052   \n",
      "767                       190  377442   206905     170537   \n",
      "...                       ...     ...      ...        ...   \n",
      "498                        84  131898   116827      15071   \n",
      "1627                       36   89526    63733      25793   \n",
      "1115                       30  117050   100191      16859   \n",
      "95                          6   44375    41819       2556   \n",
      "171                        38  106812    91975      14837   \n",
      "\n",
      "      Deduction_percentage                           Designation  \\\n",
      "938                  21.46             Software Engineer.Senior.   \n",
      "201                  12.57                       Accountant II..   \n",
      "1376                 11.04           Systems Engineer.Associate.   \n",
      "994                  29.51             Software Engineer.Senior.   \n",
      "767                  45.18    Manager.Senior.Platform Operations   \n",
      "...                    ...                                   ...   \n",
      "498                  11.43    Partner Enablement Manager.Senior.   \n",
      "1627                 28.81                   Software Engineer..   \n",
      "1115                 14.40                Software Engineer II..   \n",
      "95                    5.76  Media Operations Engineer.Associate.   \n",
      "171                  13.89         Systems Support Engineer II..   \n",
      "\n",
      "                         Department  \n",
      "938           LUNA/OPEN Engineering  \n",
      "201            Finance - Accounting  \n",
      "1376               Product - Custom  \n",
      "994           LUNA/OPEN Engineering  \n",
      "767   GPO PMO & Business Operations  \n",
      "...                             ...  \n",
      "498             Platform Operations  \n",
      "1627                   Media Portal  \n",
      "1115        Enterprise Applications  \n",
      "95                AmaTEC - BOCC/ESG  \n",
      "171                       IT DevOps  \n",
      "\n",
      "[200 rows x 13 columns]\n"
     ]
    }
   ],
   "source": [
    "import pandas as pd\n",
    "data=pd.read_csv(\"Employee_monthly_salary.csv\")\n",
    "sample_data=data.sample(n=200)\n",
    "print(sample_data)"
   ]
  }
 ],
 "metadata": {
  "kernelspec": {
   "display_name": "Python 3 (ipykernel)",
   "language": "python",
   "name": "python3"
  },
  "language_info": {
   "codemirror_mode": {
    "name": "ipython",
    "version": 3
   },
   "file_extension": ".py",
   "mimetype": "text/x-python",
   "name": "python",
   "nbconvert_exporter": "python",
   "pygments_lexer": "ipython3",
   "version": "3.9.13"
  }
 },
 "nbformat": 4,
 "nbformat_minor": 5
}
