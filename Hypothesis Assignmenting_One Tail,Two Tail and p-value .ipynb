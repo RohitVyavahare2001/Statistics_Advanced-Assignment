{
 "cells": [
  {
   "cell_type": "markdown",
   "id": "698396d1",
   "metadata": {},
   "source": [
    "# Question 1\n",
    "\n",
    "\n",
    "Write a Python program to find the test statistic for given values.\n",
    "\n",
    "x_bar = 62.1\n",
    "\n",
    "s = 13.46\n",
    "\n",
    "mu_null = 60\n",
    "\n",
    "n = 30"
   ]
  },
  {
   "cell_type": "code",
   "execution_count": 1,
   "id": "8df74f59",
   "metadata": {},
   "outputs": [
    {
     "name": "stdout",
     "output_type": "stream",
     "text": [
      "0.854544851976857\n"
     ]
    }
   ],
   "source": [
    "x_bar = 62.1 \n",
    "s = 13.46\n",
    "mu_null = 60\n",
    "n = 30\n",
    "import math\n",
    "t=(x_bar-mu_null)/((s)/(math.sqrt(n)))\n",
    "print(t)"
   ]
  },
  {
   "cell_type": "markdown",
   "id": "06446a20",
   "metadata": {},
   "source": [
    "# Question 2\n",
    "\n",
    " Write a Python program to find the T-Value for an /2 = 0.025 at 29 degrees of freedom (df).\n"
   ]
  },
  {
   "cell_type": "code",
   "execution_count": 2,
   "id": "f2c02381",
   "metadata": {},
   "outputs": [
    {
     "name": "stdout",
     "output_type": "stream",
     "text": [
      "2.045229642132703\n"
     ]
    }
   ],
   "source": [
    "import scipy.stats as stats\n",
    "\n",
    "alpha = 0.05\n",
    "df = 29\n",
    "t=stats.t.ppf(1-(alpha/2),df)\n",
    "print(t)"
   ]
  },
  {
   "cell_type": "markdown",
   "id": "9d7ae114",
   "metadata": {},
   "source": [
    "# Question 3\n",
    "\n",
    "\n",
    "Write a Python program to find the P-value of a T-value bigger than 0.855 for a two tailed test at 29 degrees of freedom (df):\n",
    " "
   ]
  },
  {
   "cell_type": "code",
   "execution_count": 3,
   "id": "2d3c6743",
   "metadata": {},
   "outputs": [
    {
     "name": "stdout",
     "output_type": "stream",
     "text": [
      "0.3995598619573093\n"
     ]
    }
   ],
   "source": [
    "import scipy.stats as stats\n",
    "t_value=0.855\n",
    "df=29\n",
    "p_value=2*(1-stats.t.cdf(t_value,df))\n",
    "print(p_value)"
   ]
  },
  {
   "cell_type": "markdown",
   "id": "2a425727",
   "metadata": {},
   "source": [
    "# Question 4\n",
    "\n",
    "Write a Python program to calculate the P-value for a two tailed hypothesis test for a mean.\n",
    "\n",
    "Here, the sample size is 30, the sample mean is 62.1, the sample standard deviation is 13.46, and the test is for a mean different from 60."
   ]
  },
  {
   "cell_type": "code",
   "execution_count": 4,
   "id": "2554b487",
   "metadata": {},
   "outputs": [
    {
     "name": "stdout",
     "output_type": "stream",
     "text": [
      "0.3998077505479367\n"
     ]
    }
   ],
   "source": [
    "import math\n",
    "from scipy import stats\n",
    "n=30\n",
    "u=62.1\n",
    "sd=13.46\n",
    "diff=60\n",
    "df=n-1\n",
    "p=(u-diff)/(sd/(math.sqrt(n)))\n",
    "p_value=2*(1-stats.t.cdf(p,df))\n",
    "print(p_value)"
   ]
  },
  {
   "cell_type": "markdown",
   "id": "f5c58b0d",
   "metadata": {},
   "source": [
    "# Question 5\n",
    "Write a Python program to calculate the P-value for a two tailed hypothesis test for a mean."
   ]
  },
  {
   "cell_type": "code",
   "execution_count": 16,
   "id": "74c98671",
   "metadata": {},
   "outputs": [],
   "source": [
    "def p_value(mean,samplemean,samplesize,sd):\n",
    "    import math\n",
    "    df=samplesize-1\n",
    "    p=(samplemean-mean)/(sd/(math.sqrt(n)))\n",
    "    import scipy.stats as stats\n",
    "    p_value=2*(1-stats.t.cdf(p,df))\n",
    "    print(p_value)"
   ]
  },
  {
   "cell_type": "markdown",
   "id": "c39d4982",
   "metadata": {},
   "source": [
    "# Question 6\n",
    "Write a Python program to calculate the P-value for a 1-Tail Test\n",
    "\n",
    "p=0.3\n",
    "\n",
    "array=pd.Series([0.593,0.142,0.329,0.691,0.231,0.793,0.519,0.392,0.418])\n"
   ]
  },
  {
   "cell_type": "code",
   "execution_count": 6,
   "id": "231cb4f3",
   "metadata": {},
   "outputs": [
    {
     "name": "stdout",
     "output_type": "stream",
     "text": [
      "0.3859122408412494\n"
     ]
    }
   ],
   "source": [
    "import pandas as pd\n",
    "p=0.3\n",
    "array=pd.Series([0.593,0.142,0.329,0.691,0.231,0.793,0.519,0.392,0.418])\n",
    "n=array.size\n",
    "df=n-1\n",
    "import scipy.stats as stats\n",
    "p_value=1-stats.t.cdf(p,df)\n",
    "print(p_value)"
   ]
  },
  {
   "cell_type": "markdown",
   "id": "f175b100",
   "metadata": {},
   "source": [
    "# Question 7\n",
    "Write a Python program to calculate the test statistic for a proportion.\n",
    "\n",
    "x = 10\n",
    "\n",
    "n = 40\n",
    "\n",
    "p = 0.45\n"
   ]
  },
  {
   "cell_type": "code",
   "execution_count": 7,
   "id": "55f47f26",
   "metadata": {},
   "outputs": [
    {
     "name": "stdout",
     "output_type": "stream",
     "text": [
      "-2.542566904654913\n"
     ]
    }
   ],
   "source": [
    "import scipy.stats as stats\n",
    "import math\n",
    "\n",
    "# Specify the number of occurrences (x), the sample size (n), and the proportion claimed in the null-hypothesis (p)\n",
    "x = 10\n",
    "n = 40\n",
    "p = 0.45\n",
    "\n",
    "# Calculate the sample proportion\n",
    "p_hat = x/n\n",
    "\n",
    "# Calculate and print the test statistic\n",
    "print((p_hat-p)/(math.sqrt((p*(1-p))/(n))))"
   ]
  },
  {
   "cell_type": "markdown",
   "id": "6246114b",
   "metadata": {},
   "source": [
    "# Question 8\n",
    "Write a Python program to the Z-value for an alpha = 0.01 in the left tail."
   ]
  },
  {
   "cell_type": "code",
   "execution_count": 8,
   "id": "8271f689",
   "metadata": {},
   "outputs": [
    {
     "name": "stdout",
     "output_type": "stream",
     "text": [
      "-2.3263478740408408\n"
     ]
    }
   ],
   "source": [
    "aplha=0.01\n",
    "import scipy.stats as stats\n",
    "zvalue=stats.norm.ppf(aplha)\n",
    "print(zvalue)"
   ]
  },
  {
   "cell_type": "markdown",
   "id": "4da199dd",
   "metadata": {},
   "source": [
    "# Question 9\n",
    "\n",
    "Write a Python program to function find the P-value of a Z-value smaller than -2.543:"
   ]
  },
  {
   "cell_type": "code",
   "execution_count": 9,
   "id": "71dde260",
   "metadata": {},
   "outputs": [
    {
     "name": "stdout",
     "output_type": "stream",
     "text": [
      "0.00549526145552752\n"
     ]
    }
   ],
   "source": [
    "z_value= -2.543\n",
    "import scipy.stats as stats\n",
    "pvalue=stats.norm.cdf(z_value)\n",
    "print(pvalue)"
   ]
  },
  {
   "cell_type": "markdown",
   "id": "0dd03755",
   "metadata": {},
   "source": [
    "# Question 10\n",
    "\n",
    "Write a Python program to function find the P-value for a left tailed hypothesis test for a\n",
    "proportion.\n",
    "\n",
    "Here, the sample size is 40, the occurences are 10, and the test is for a proportion smaller\n",
    "than 0.45."
   ]
  },
  {
   "cell_type": "code",
   "execution_count": 10,
   "id": "b2dfd999",
   "metadata": {},
   "outputs": [
    {
     "name": "stdout",
     "output_type": "stream",
     "text": [
      "The P-value is: 0.005502076588434386\n"
     ]
    }
   ],
   "source": [
    "import scipy.stats as stats\n",
    "\n",
    "sample_size = 40\n",
    "occurences = 10\n",
    "test_proportion = 0.45\n",
    "\n",
    "p_hat = occurences / sample_size\n",
    "se = (test_proportion * (1 - test_proportion) / sample_size)**0.5\n",
    "z = (p_hat - test_proportion) / se\n",
    "p_value = stats.norm.cdf(z)\n",
    "\n",
    "print(\"The P-value is:\", p_value)\n"
   ]
  },
  {
   "cell_type": "markdown",
   "id": "40b00eb2",
   "metadata": {},
   "source": [
    "# Question 11\n",
    "\n",
    "Write a Python program to function and calculate the test statistic for a proportion.\n",
    "\n",
    "    x = 10\n",
    "    n = 100\n",
    "    p = 0.5\n"
   ]
  },
  {
   "cell_type": "code",
   "execution_count": 11,
   "id": "98e02517",
   "metadata": {},
   "outputs": [
    {
     "name": "stdout",
     "output_type": "stream",
     "text": [
      "The test statistic is: -8.0\n"
     ]
    }
   ],
   "source": [
    "import math\n",
    "\n",
    "def test_statistic_for_proportion(x, n, p):\n",
    "    p_hat = x / n\n",
    "    se = math.sqrt(p * (1 - p) / n)\n",
    "    z = (p_hat - p) / se\n",
    "    return z\n",
    "\n",
    "x = 10\n",
    "n = 100\n",
    "p = 0.5\n",
    "\n",
    "test_statistic = test_statistic_for_proportion(x, n, p)\n",
    "\n",
    "print(\"The test statistic is:\", test_statistic)"
   ]
  },
  {
   "cell_type": "markdown",
   "id": "c890b4f5",
   "metadata": {},
   "source": [
    "# Question 12\n",
    "Write a Python program to find Z-value for an alpha/2 = 0.005 in the left tail.\n"
   ]
  },
  {
   "cell_type": "code",
   "execution_count": 12,
   "id": "91891b3b",
   "metadata": {},
   "outputs": [
    {
     "name": "stdout",
     "output_type": "stream",
     "text": [
      "-1.6448536269514729\n"
     ]
    }
   ],
   "source": [
    "import scipy.stats as stats\n",
    "aplha=0.005\n",
    "z_value=stats.norm.ppf(alpha)\n",
    "print(z_value)"
   ]
  },
  {
   "cell_type": "markdown",
   "id": "6c25087f",
   "metadata": {},
   "source": [
    "# Question 13\n",
    "\n",
    "Write a Python program to find the Z-value for an alpha= 0.005 in the left tail.\n"
   ]
  },
  {
   "cell_type": "code",
   "execution_count": 13,
   "id": "2fdffb67",
   "metadata": {},
   "outputs": [
    {
     "name": "stdout",
     "output_type": "stream",
     "text": [
      "-2.8070337683438042\n"
     ]
    }
   ],
   "source": [
    "import scipy.stats as stats\n",
    "alpha= 0.005\n",
    "alpha=alpha/2\n",
    "z_value=stats.norm.ppf(alpha)\n",
    "print(z_value)"
   ]
  },
  {
   "cell_type": "markdown",
   "id": "3b9fab50",
   "metadata": {},
   "source": [
    "# Question 14\n",
    "\n",
    "Write a Python program to find the P-value of a Z-value smaller than -8 for a two tailed\n",
    "test:"
   ]
  },
  {
   "cell_type": "code",
   "execution_count": 19,
   "id": "5878d012",
   "metadata": {},
   "outputs": [
    {
     "name": "stdout",
     "output_type": "stream",
     "text": [
      "1.9999999999999987\n"
     ]
    }
   ],
   "source": [
    "Zvalue=-8\n",
    "import scipy.stats as stats\n",
    "pvalue=2*(1-(stats.norm.cdf(Zvalue)))\n",
    "print(pvalue)"
   ]
  },
  {
   "cell_type": "markdown",
   "id": "fd26719a",
   "metadata": {},
   "source": [
    "# Question 15\n",
    "Write a Python program to calculate the P-value for a two-tailed tailed hypothesis test for a proportion.\n",
    "Here, the sample size is 100, the occurrences are 10, and the test is for a proportion different from than 0.50."
   ]
  },
  {
   "cell_type": "code",
   "execution_count": 23,
   "id": "4e31dd4a",
   "metadata": {},
   "outputs": [
    {
     "name": "stdout",
     "output_type": "stream",
     "text": [
      "P-value: 1.481282554381412e-40\n"
     ]
    }
   ],
   "source": [
    "import statsmodels.api as sm\n",
    "\n",
    "sample_size = 100\n",
    "occurrences = 10\n",
    "prop = 0.50\n",
    "\n",
    "# Calculate the expected number of occurrences under the null hypothesis\n",
    "expected_occurrences = prop * sample_size\n",
    "\n",
    "# Perform the two-tailed z-test for proportions\n",
    "z_value, p_value = sm.stats.proportions_ztest(count=occurrences, nobs=sample_size, value=prop, alternative='two-sided')\n",
    "\n",
    "print(\"P-value:\", p_value)\n"
   ]
  },
  {
   "cell_type": "code",
   "execution_count": null,
   "id": "9bf49a5a",
   "metadata": {},
   "outputs": [],
   "source": []
  },
  {
   "cell_type": "code",
   "execution_count": null,
   "id": "95c508b4",
   "metadata": {},
   "outputs": [],
   "source": []
  }
 ],
 "metadata": {
  "kernelspec": {
   "display_name": "Python 3 (ipykernel)",
   "language": "python",
   "name": "python3"
  },
  "language_info": {
   "codemirror_mode": {
    "name": "ipython",
    "version": 3
   },
   "file_extension": ".py",
   "mimetype": "text/x-python",
   "name": "python",
   "nbconvert_exporter": "python",
   "pygments_lexer": "ipython3",
   "version": "3.9.13"
  }
 },
 "nbformat": 4,
 "nbformat_minor": 5
}
